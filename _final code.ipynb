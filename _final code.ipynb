{
 "cells": [
  {
   "cell_type": "code",
   "execution_count": 15,
   "id": "52f365d5-276e-4caa-9091-32167621facb",
   "metadata": {
    "extensions": {
     "jupyter_dashboards": {
      "activeView": "grid_default",
      "views": {
       "grid_default": {
        "col": 0,
        "height": 11,
        "hidden": true,
        "locked": true,
        "row": 16,
        "width": 12
       }
      }
     }
    },
    "tags": []
   },
   "outputs": [],
   "source": [
    "import pandas as pd\n",
    "import plotly.graph_objects as go\n",
    "import pandas as pd\n",
    "import seaborn as sns\n",
    "import plotly.express as px\n",
    "import plotly.io as pio\n",
    "import matplotlib.pyplot as plt\n",
    "from dash import dcc\n",
    "import ipywidgets as widgets\n",
    "from IPython.display import display, IFrame\n",
    "from IPython.display import display\n",
    "from dash import html\n",
    "import dash_bootstrap_components as dbc\n",
    "import plotly.graph_objs as go\n",
    "from plotly.offline import plot\n",
    "import dash\n"
   ]
  },
  {
   "cell_type": "code",
   "execution_count": 13,
   "id": "9ce8d4f1-b701-4856-9d55-9b71c65ba103",
   "metadata": {
    "extensions": {
     "jupyter_dashboards": {
      "activeView": "grid_default",
      "views": {
       "grid_default": {
        "col": null,
        "height": 2,
        "hidden": true,
        "locked": true,
        "row": null,
        "width": 2
       }
      }
     }
    },
    "tags": []
   },
   "outputs": [
    {
     "name": "stdout",
     "output_type": "stream",
     "text": [
      "Average_conversion_rate: 0.030062873144185556\n",
      "Total conversion: 17639\n",
      "Avg_touchponts: 2.4436378629616673\n"
     ]
    }
   ],
   "source": [
    "# calculate the weighted average of the number of steps in each journey\n",
    "channel_stacks = pd.read_csv('conversion-path.csv')\n",
    "\n",
    "#Calculate average conversion\n",
    "# Read the data\n",
    "data = pd.read_csv('attribution data.csv')\n",
    "\n",
    "# Filter for conversions (conversion = 1)\n",
    "total_conversions = (data['conversion'] == 1).sum()\n",
    "\n",
    "# Group by channel and count the number of conversions\n",
    "average_conversions = total_conversions/len(data['conversion'])\n",
    "print(\"Average_conversion_rate:\", average_conversions)\n",
    "print(\"Total conversion:\", total_conversions)\n",
    "\n",
    "\n",
    "avg_steps = data.groupby('visitor_id')['campaign'].count().mean()\n",
    "print(\"Avg_touchponts:\", avg_steps)"
   ]
  },
  {
   "cell_type": "code",
   "execution_count": 14,
   "id": "b3173c46-32b5-4f8f-8088-6d9b1c07a73d",
   "metadata": {
    "extensions": {
     "jupyter_dashboards": {
      "activeView": "grid_default",
      "views": {
       "grid_default": {
        "col": 7,
        "height": 5,
        "hidden": false,
        "locked": true,
        "row": 5,
        "width": 5
       }
      }
     }
    },
    "tags": []
   },
   "outputs": [
    {
     "data": {
      "text/html": [
       "<iframe\n",
       "    scrolling=\"no\"\n",
       "    width=\"328px\"\n",
       "    height=\"340\"\n",
       "    src=\"iframe_figures/figure_14.html\"\n",
       "    frameborder=\"0\"\n",
       "    allowfullscreen\n",
       "></iframe>\n"
      ]
     },
     "metadata": {},
     "output_type": "display_data"
    }
   ],
   "source": [
    "# Bar chart - Set template with white background and dark theme\n",
    "template = 'plotly_white'\n",
    "plot_bgcolor = 'white'\n",
    "paper_bgcolor = 'white'\n",
    "\n",
    "# Read the data\n",
    "data = pd.read_csv('attribution data.csv')\n",
    "\n",
    "# Colour\n",
    "sns.set_palette(\"colorblind\")\n",
    "color_map = {\n",
    "    'Facebook': '#0072B2',\n",
    "    'Instagram': '#009E73',\n",
    "    'Online display': '#D55E00',\n",
    "    'Online video': '#CC79A7',\n",
    "    'Paid search': '#F0E442'\n",
    "}\n",
    "\n",
    "# Filter for conversions (conversion = 1)\n",
    "conversions = data[data['conversion'] == 1]\n",
    "\n",
    "# Group by channel and count the number of conversions\n",
    "conversion_counts = conversions.groupby('campaign').size()\n",
    "\n",
    "# Create a dataframe for the chart\n",
    "df = pd.DataFrame({'Channel': conversion_counts.index, 'Conversion Count': conversion_counts.values})\n",
    "\n",
    "# Create the plotly chart\n",
    "fig1 = px.bar(df, x='Channel', y='Conversion Count', color='Channel', title='Conversion Counts by Channel', color_discrete_map=color_map)\n",
    "\n",
    "fig1.update_layout(\n",
    "    xaxis_title='', \n",
    "    yaxis_title='Number of Conversions', \n",
    "    font=dict(family='Arial', size=10), # Set font to Arial and size to 8\n",
    "    title=dict(text='<b>CONVERSION COUNTS BY CHANNEL<b>', font=dict(size=14, family='Arial', color='black'),x=0, y=0.98), # Set title to capital letters, bold and Arial font\n",
    "    showlegend=False, \n",
    "    template=template, \n",
    "    plot_bgcolor=plot_bgcolor, \n",
    "    paper_bgcolor=paper_bgcolor,\n",
    "    height=320,\n",
    "    width=308,\n",
    "    margin=dict(\n",
    "        l=20, # Set left margin to 50 pixels\n",
    "        r=20, # Set right margin to 20 pixels\n",
    "        t=20, # Set top margin to 50 pixels\n",
    "        b=50  # Set bottom margin to 50 pixels\n",
    "    )\n",
    ")\n",
    "fig1a = dcc.Graph(figure=fig1)\n",
    "pio.renderers.default = 'iframe'\n",
    "fig1.show()\n",
    "\n"
   ]
  },
  {
   "cell_type": "code",
   "execution_count": 4,
   "id": "2947b581-d28c-4e39-9789-ee99ea976a7b",
   "metadata": {
    "extensions": {
     "jupyter_dashboards": {
      "activeView": "grid_default",
      "views": {
       "grid_default": {
        "col": 7,
        "height": 5,
        "hidden": false,
        "locked": true,
        "row": 0,
        "width": 5
       }
      }
     }
    },
    "tags": []
   },
   "outputs": [
    {
     "data": {
      "text/html": [
       "<iframe\n",
       "    scrolling=\"no\"\n",
       "    width=\"420px\"\n",
       "    height=\"340\"\n",
       "    src=\"iframe_figures/figure_4.html\"\n",
       "    frameborder=\"0\"\n",
       "    allowfullscreen\n",
       "></iframe>\n"
      ]
     },
     "metadata": {},
     "output_type": "display_data"
    }
   ],
   "source": [
    "#COlumn\n",
    "import pandas as pd\n",
    "import plotly.express as px\n",
    "import seaborn as sns\n",
    "\n",
    "data = pd.read_csv('attribution data.csv')\n",
    "\n",
    "# count the number of occurrences of each campaign\n",
    "campaign_counts = data['campaign'].value_counts()\n",
    "\n",
    "# set the color palette to Seaborn's colorblind palette\n",
    "sns.set_palette(\"colorblind\")\n",
    "color_map = {\n",
    "    'Facebook': '#0072B2',\n",
    "    'Instagram': '#009E73',\n",
    "    'Online display': '#D55E00',\n",
    "    'Online video': '#CC79A7',\n",
    "    'Paid search': '#F0E442'\n",
    "}\n",
    "\n",
    "#create a dataframe\n",
    "df = pd.DataFrame({'Channel': campaign_counts.index, 'Touchpoint Count': campaign_counts.values})\n",
    "\n",
    "# create a bar chart of the campaign counts\n",
    "fig2 = px.bar(df, x = 'Touchpoint Count', y = 'Channel', color = 'Channel',\n",
    "    orientation='h',\n",
    "    title='Most Common Touchpoints',\n",
    "    color_discrete_map=color_map,\n",
    "    labels={'x': 'Count', 'y': ' '},\n",
    ")\n",
    "\n",
    "# remove the legend\n",
    "fig2.update_layout(showlegend=False)\n",
    "fig2.update_layout(plot_bgcolor=plot_bgcolor, paper_bgcolor=paper_bgcolor)\n",
    "fig2.update_layout(font=dict(family='Arial', size=10)), # Set font to Arial and size to 8\n",
    "fig2.update_layout(height=320, width=400, font=dict(size=6), margin=dict(l=5, r=0, b=0, t=20, pad=4))\n",
    "fig2.update_layout(xaxis_title='Touchpoint Counts', yaxis_title='')\n",
    "fig2.update_layout(title=dict(text='<b>MOST COMMON TOUCHPOINTS<b>', font=dict(size=14, family='Arial', color='black'),x=0, y=0.98)) # Set title to capital letters, bold and Arial font\n",
    " # Set title to capital letters, bold and Arial font\n",
    "\n",
    "fig2a = dcc.Graph(figure=fig2)\n",
    "\n",
    "\n",
    "pio.renderers.default = 'iframe'\n",
    "fig2.show()\n"
   ]
  },
  {
   "cell_type": "code",
   "execution_count": null,
   "id": "c60117a5-0982-4961-bcaa-3580e90c38ca",
   "metadata": {
    "extensions": {
     "jupyter_dashboards": {
      "activeView": "grid_default",
      "views": {
       "grid_default": {
        "col": 6,
        "height": 11,
        "hidden": false,
        "locked": true,
        "row": 10,
        "width": 6
       }
      }
     }
    },
    "tags": []
   },
   "outputs": [],
   "source": [
    "\n",
    "#bubble chart\n",
    "sns.set_palette(\"colorblind\")\n",
    "channel_stacks = pd.read_csv('conversion-path.csv')\n",
    "fig3 = px.scatter(channel_stacks, x='path_count', y='conversion', color='conversion_rate', size='conversion_rate', hover_data = ['path'])\n",
    "\n",
    "fig3.update_layout(\n",
    "    xaxis=dict(type='log', title='Number of Paths'),\n",
    "    yaxis=dict(type='log', title='Number of Conversions'),\n",
    "    coloraxis=dict(colorbar=dict(title='Rate'),\n",
    "))\n",
    "fig3.update_layout(font=dict(family='Arial', size=8)), # Set font to Arial and size to 8\n",
    "fig3.update_layout(template='plotly_white', plot_bgcolor='white', paper_bgcolor='white')\n",
    "fig3.update_layout(height=304, width=720)\n",
    "fig3.update_layout(title=dict(text='<b>CONVERSION BY PATHS<b>', font=dict(size=14, family='Arial', color='black'),x=0, y=0.95)) # Set title to capital letters, bold and Arial font\n",
    "fig3.update_layout(margin=dict(l=5, r=5, t=25, b=0))\n",
    "\n",
    "\n",
    "fig3a= dcc.Graph(figure=fig3)\n",
    "\n",
    "pio.renderers.default = 'iframe'\n",
    "fig3.show()\n",
    "\n"
   ]
  },
  {
   "cell_type": "code",
   "execution_count": 6,
   "id": "32c4014a-3e4c-43c4-ba13-4a16814db772",
   "metadata": {
    "extensions": {
     "jupyter_dashboards": {
      "activeView": "grid_default",
      "views": {
       "grid_default": {
        "col": 0,
        "height": 16,
        "hidden": false,
        "locked": true,
        "row": 5,
        "width": 6
       }
      }
     }
    },
    "tags": []
   },
   "outputs": [
    {
     "data": {
      "text/html": [
       "<iframe\n",
       "    scrolling=\"no\"\n",
       "    width=\"478px\"\n",
       "    height=\"648\"\n",
       "    src=\"iframe_figures/figure_6.html\"\n",
       "    frameborder=\"0\"\n",
       "    allowfullscreen\n",
       "></iframe>\n"
      ]
     },
     "metadata": {},
     "output_type": "display_data"
    }
   ],
   "source": [
    "\n",
    "#stankey diagram\n",
    "combos = pd.read_csv('combos1.csv', index_col = 0)\n",
    "combos\n",
    "\n",
    "display_node_labels = ['1: FB', '1:Insta', '1:OD', '1:OV',\n",
    "                       '1:PS', '2:FB', '2:Insta', '2:OD',\n",
    "                       '2:OV', '2:PS', '3', '3',\n",
    "                       '3', '3', '3', '4',\n",
    "                       '4', '4', '4', '4',\n",
    "                       'Conversion']\n",
    "\n",
    "# Define node colors\n",
    "sns.set_palette(\"colorblind\")\n",
    "node_colors = ['#0072B2', '#009E73', '#D55E00', '#CC79A7', '#F0E442',\n",
    "               '#0072B2', '#009E73', '#D55E00', '#CC79A7', '#F0E442',\n",
    "               '#0072B2', '#009E73', '#D55E00', '#CC79A7', '#F0E442',\n",
    "               '#0072B2', '#009E73', '#D55E00', '#CC79A7', '#F0E442']\n",
    "\n",
    "# Define link colors\n",
    "link_colors = []\n",
    "for source, target in zip(combos[\"source\"], combos[\"target\"]):\n",
    "    if target == 21:\n",
    "        # Link leads to conversion\n",
    "        link_colors.append(node_colors[source - 1])\n",
    "    else:\n",
    "        # Link does not lead to conversion\n",
    "        source_color = node_colors[source - 1]\n",
    "        target_color = node_colors[target - 1]\n",
    "        # Set transparency to 0.2\n",
    "        link_colors.append(f\"rgba({','.join(str(int(c * 255)) for c in sns.color_palette([source_color, target_color], n_colors=2)[0][:3])}, 0.2)\")\n",
    "\n",
    "# Generate Sankey diagram\n",
    "fig4 = go.Figure(data=[go.Sankey(\n",
    "    orientation=\"v\",\n",
    "    node=dict(\n",
    "        label=display_node_labels,\n",
    "        color=node_colors,\n",
    "        pad=10,\n",
    "        thickness=30,\n",
    "        line=dict(color=\"black\", width=0),\n",
    "    ),\n",
    "    link=dict(\n",
    "        source=combos[\"source\"].values - 1,  # convert to zero index\n",
    "        target=combos[\"target\"].values - 1,  # convert to zero index\n",
    "        value=combos[\"value\"].values,  # size of connection\n",
    "        color=link_colors, # color based on source and target groups\n",
    "        hovertemplate='Source: %{source.label}<br>Target: %{target.label}<br>Value: %{value}'\n",
    "                      '<extra>Conversion: %{target.label == \"Conversion\"}</extra>',\n",
    "    ),visible=True\n",
    ")])\n",
    "\n",
    "fig4.update_layout(\n",
    "    font=dict(\n",
    "        family=\"Arial\",\n",
    "        size=9,\n",
    "    ),\n",
    "    margin=dict(l=5),\n",
    "    width=458,\n",
    "    height=628,\n",
    "    legend=dict(\n",
    "        font=dict(\n",
    "            size=8 # set legend font size to 8\n",
    "        )\n",
    "    )\n",
    ")\n",
    "fig4.update_layout(title=dict(text='<b>CONVERSION FLOW DIAGRAM<b>', font=dict(size=14, family='Arial', color='black'),x=0, y=0.98)) # Set title to capital letters, bold and Arial font\n",
    "fig4.update_layout(margin=dict(l=5, r=5, t=26, b=5))\n",
    "\n",
    "import plotly.io as pio\n",
    "fig4a=dcc.Graph(figure=fig4)\n",
    "pio.renderers.default = 'iframe'\n",
    "fig4.show()\n"
   ]
  },
  {
   "cell_type": "code",
   "execution_count": 8,
   "id": "afae9413-0d89-42cf-b439-10f3fe52af5e",
   "metadata": {},
   "outputs": [],
   "source": [
    "\n",
    "#Touchpoint\n",
    "text_box = html.Div(\n",
    "    children=[        html.H2(['Average',html.Br(),'Touchpoint'], style={'color': 'black', 'font-size': '20px', 'margin-top': '10px', 'font-weight': 'bold'}),        html.H1('2.4', style={'color': '#0072B2', 'font-size': '35px', 'margin-top': '5px', 'margin-bottom': '5px','font-weight': 'bold'})    ],\n",
    "    style={\n",
    "        'text-align': 'center',\n",
    "        'background-color': 'white',\n",
    "        'width': '229px',\n",
    "        'height': '17vh',\n",
    "        'padding': '20px',\n",
    "        'box-shadow': '5px 5px 15px rgba(0,0,0,0.2)',\n",
    "        'line-height': '0.9',\n",
    "        'margin-left': '0vh'\n",
    "    }\n",
    ")\n",
    "\n",
    "#Conversion\n",
    "\n",
    "text_box2 = html.Div(\n",
    "    children=[        html.H2(['Total',html.Br(),'Conversion'], style={'color': 'black', 'font-size': '20px', 'margin-top': '10px','font-weight': 'bold'}),        html.H1('21763', style={'color': '#0072B2', 'font-size': '35px', 'margin-top': '5px', 'margin-bottom': '5px','font-weight': 'bold'})    ],\n",
    "    style={\n",
    "        'text-align': 'center',\n",
    "        'background-color': 'white',\n",
    "        'width': '230px',\n",
    "        'height': '17vh',\n",
    "        'padding': '20px',\n",
    "        'box-shadow': '5px 5px 15px rgba(0,0,0,0.2)',\n",
    "        'line-height': '0.9',\n",
    "    }\n",
    ")\n",
    "\n",
    "#Conversion rate\n",
    "\n",
    "text_box3 = html.Div(\n",
    "    children=[        html.H2('Average Conversion Rate', style={'color': 'black', 'font-size': '20px', 'margin-top': '10px','font-weight': 'bold'}),        html.H1('0.3', style={'color': '#0072B2', 'font-size': '30px', 'margin-top': '5px', 'margin-bottom': '5px','font-weight': 'bold'})    ],\n",
    "    style={\n",
    "        'text-align': 'center',\n",
    "        'background-color': 'white',\n",
    "        'width': '240px',\n",
    "        'height': '17vh',\n",
    "        'padding': '20px',\n",
    "        'box-shadow': '5px 5px 15px rgba(0,0,0,0.2)',\n",
    "        'line-height': '0.9',\n",
    "    }\n",
    ")\n"
   ]
  },
  {
   "cell_type": "code",
   "execution_count": 9,
   "id": "2724f9e8-27c2-48a1-b82d-63626b149e60",
   "metadata": {},
   "outputs": [
    {
     "data": {
      "image/png": "[encoded data removed]",
      "text/plain": [
       "<Figure size 100x100 with 1 Axes>"
      ]
     },
     "metadata": {},
     "output_type": "display_data"
    }
   ],
   "source": [
    "\n",
    "\n",
    "import base64\n",
    "import matplotlib.pyplot as plt\n",
    "\n",
    "# Define color codes and labels\n",
    "color_codes = {'Facebook': '#0072B2',\n",
    "               'Instagram': '#009E73',\n",
    "               'Online display': '#D55E00',\n",
    "               'Online video': '#CC79A7',\n",
    "               'Paid search': '#F0E442'}\n",
    "labels = list(color_codes.keys())\n",
    "\n",
    "# Create legend image\n",
    "fig, ax = plt.subplots(figsize=(1, 1))\n",
    "for label in labels:\n",
    "    ax.bar(0, 0, color=color_codes[label], label=label)\n",
    "ax.set_axis_off()\n",
    "ax.legend(loc='center')\n",
    "# Save the legend image\n",
    "plt.savefig('legend.png', dpi=300, bbox_inches='tight')\n",
    "plt.show()\n",
    "\n",
    "with open('legend.png', 'rb') as f:\n",
    "    image_data = base64.b64encode(f.read()).decode('utf-8')\n",
    "\n"
   ]
  },
  {
   "cell_type": "code",
   "execution_count": 10,
   "id": "f0097e5a-4b75-4038-a4d0-19152132a20e",
   "metadata": {},
   "outputs": [],
   "source": [
    "title_area = html.Div(\n",
    "    [\n",
    "        dbc.Row(\n",
    "            [\n",
    "                dbc.Col(\n",
    "                    html.H1(\n",
    "                        \"Attribution and Customer Journey\",\n",
    "                        className=\"text-center\",\n",
    "                        style={\n",
    "                            \"color\": \"white\",\n",
    "                            \"font-family\": \"Arial\",\n",
    "                            \"font-weight\": \"bold\",\n",
    "                            \"margin-top\": \"0px\",\n",
    "                            \"font-size\": \"24px\"\n",
    "                        },\n",
    "                    ),\n",
    "                    width={\"size\": 10, \"offset\": 1}\n",
    "                )\n",
    "            ],\n",
    "            align=\"center\",\n",
    "            style={\n",
    "                \"background-color\": \"#6DA9D2\",\n",
    "                \"box-shadow\": \"0 4px 8px 0 rgba(0,0,0,0.2)\",\n",
    "                \"display\": \"flex\",\n",
    "                \"justify-content\": \"center\",\n",
    "                \"align-items\": \"center\", \"height\": \"17vh\", \"padding\":\"1vh\", \"margin-bottom\":\"0vh\", \"margin-top\":\"3vh\", \"margin-left\":\"3hv\"}\n",
    "            \n",
    "        )\n",
    "    ]\n",
    ")\n"
   ]
  },
  {
   "cell_type": "code",
   "execution_count": 12,
   "id": "2e85f070-b8d1-446c-8944-cadfa8d52ebf",
   "metadata": {
    "tags": []
   },
   "outputs": [
    {
     "ename": "NameError",
     "evalue": "name 'title_area' is not defined",
     "output_type": "error",
     "traceback": [
      "\u001b[0;31m---------------------------------------------------------------------------\u001b[0m",
      "\u001b[0;31mNameError\u001b[0m                                 Traceback (most recent call last)",
      "Cell \u001b[0;32mIn[12], line 7\u001b[0m\n\u001b[1;32m      3\u001b[0m server\u001b[38;5;241m=\u001b[39mapp\u001b[38;5;241m.\u001b[39mserver\n\u001b[1;32m      4\u001b[0m \u001b[38;5;66;03m# Define the sidebar\u001b[39;00m\n\u001b[1;32m      5\u001b[0m sidebar \u001b[38;5;241m=\u001b[39m html\u001b[38;5;241m.\u001b[39mDiv([\n\u001b[1;32m      6\u001b[0m     dbc\u001b[38;5;241m.\u001b[39mRow([\n\u001b[0;32m----> 7\u001b[0m         \u001b[43mtitle_area\u001b[49m\n\u001b[1;32m      8\u001b[0m     ], style\u001b[38;5;241m=\u001b[39m{\u001b[38;5;124m\"\u001b[39m\u001b[38;5;124mheight\u001b[39m\u001b[38;5;124m\"\u001b[39m: \u001b[38;5;124m\"\u001b[39m\u001b[38;5;124m20vh\u001b[39m\u001b[38;5;124m\"\u001b[39m}),\n\u001b[1;32m      9\u001b[0m     dbc\u001b[38;5;241m.\u001b[39mRow([\n\u001b[1;32m     10\u001b[0m         dbc\u001b[38;5;241m.\u001b[39mCol([\n\u001b[1;32m     11\u001b[0m             html\u001b[38;5;241m.\u001b[39mDiv([\n\u001b[1;32m     12\u001b[0m                 dcc\u001b[38;5;241m.\u001b[39mGraph(\n\u001b[1;32m     13\u001b[0m                     \u001b[38;5;28mid\u001b[39m\u001b[38;5;241m=\u001b[39m\u001b[38;5;124m'\u001b[39m\u001b[38;5;124mfig4a\u001b[39m\u001b[38;5;124m'\u001b[39m,\n\u001b[1;32m     14\u001b[0m                     figure\u001b[38;5;241m=\u001b[39mfig4,\n\u001b[1;32m     15\u001b[0m                     style\u001b[38;5;241m=\u001b[39m{\u001b[38;5;124m'\u001b[39m\u001b[38;5;124mmargin-left\u001b[39m\u001b[38;5;124m'\u001b[39m: \u001b[38;5;124m'\u001b[39m\u001b[38;5;124m1vh\u001b[39m\u001b[38;5;124m'\u001b[39m, \u001b[38;5;124m'\u001b[39m\u001b[38;5;124mmargin-top\u001b[39m\u001b[38;5;124m'\u001b[39m: \u001b[38;5;124m'\u001b[39m\u001b[38;5;124m3hv\u001b[39m\u001b[38;5;124m'\u001b[39m, \u001b[38;5;124m'\u001b[39m\u001b[38;5;124mheight\u001b[39m\u001b[38;5;124m'\u001b[39m: \u001b[38;5;124m'\u001b[39m\u001b[38;5;124m100\u001b[39m\u001b[38;5;124m%\u001b[39m\u001b[38;5;124m'\u001b[39m, \u001b[38;5;124m'\u001b[39m\u001b[38;5;124mwidth\u001b[39m\u001b[38;5;124m'\u001b[39m: \u001b[38;5;124m'\u001b[39m\u001b[38;5;124m100\u001b[39m\u001b[38;5;124m%\u001b[39m\u001b[38;5;124m'\u001b[39m}\n\u001b[1;32m     16\u001b[0m                 )\n\u001b[1;32m     17\u001b[0m             ])\n\u001b[1;32m     18\u001b[0m         ], width\u001b[38;5;241m=\u001b[39m\u001b[38;5;241m4\u001b[39m),\n\u001b[1;32m     19\u001b[0m         dbc\u001b[38;5;241m.\u001b[39mCol([\n\u001b[1;32m     20\u001b[0m             html\u001b[38;5;241m.\u001b[39mDiv([\n\u001b[1;32m     21\u001b[0m                 html\u001b[38;5;241m.\u001b[39mImg(\n\u001b[1;32m     22\u001b[0m                     src\u001b[38;5;241m=\u001b[39m\u001b[38;5;124m'\u001b[39m\u001b[38;5;124mdata:image/png;base64,\u001b[39m\u001b[38;5;132;01m{}\u001b[39;00m\u001b[38;5;124m'\u001b[39m\u001b[38;5;241m.\u001b[39mformat(image_data),\n\u001b[1;32m     23\u001b[0m                     style\u001b[38;5;241m=\u001b[39m{\u001b[38;5;124m'\u001b[39m\u001b[38;5;124mwidth\u001b[39m\u001b[38;5;124m'\u001b[39m: \u001b[38;5;124m'\u001b[39m\u001b[38;5;124m10vh\u001b[39m\u001b[38;5;124m'\u001b[39m, \u001b[38;5;124m'\u001b[39m\u001b[38;5;124mheight\u001b[39m\u001b[38;5;124m'\u001b[39m: \u001b[38;5;124m'\u001b[39m\u001b[38;5;124m10vh\u001b[39m\u001b[38;5;124m'\u001b[39m, \u001b[38;5;124m'\u001b[39m\u001b[38;5;124mfloat\u001b[39m\u001b[38;5;124m'\u001b[39m: \u001b[38;5;124m'\u001b[39m\u001b[38;5;124mright\u001b[39m\u001b[38;5;124m'\u001b[39m}\n\u001b[1;32m     24\u001b[0m                 )\n\u001b[1;32m     25\u001b[0m             ],\n\u001b[1;32m     26\u001b[0m                 style\u001b[38;5;241m=\u001b[39m{\u001b[38;5;124m'\u001b[39m\u001b[38;5;124mwidth\u001b[39m\u001b[38;5;124m'\u001b[39m: \u001b[38;5;124m'\u001b[39m\u001b[38;5;124m15vh\u001b[39m\u001b[38;5;124m'\u001b[39m, \u001b[38;5;124m'\u001b[39m\u001b[38;5;124mheight\u001b[39m\u001b[38;5;124m'\u001b[39m: \u001b[38;5;124m'\u001b[39m\u001b[38;5;124m15vh\u001b[39m\u001b[38;5;124m'\u001b[39m, \u001b[38;5;124m'\u001b[39m\u001b[38;5;124mposition\u001b[39m\u001b[38;5;124m'\u001b[39m: \u001b[38;5;124m'\u001b[39m\u001b[38;5;124mabsolute\u001b[39m\u001b[38;5;124m'\u001b[39m, \u001b[38;5;124m'\u001b[39m\u001b[38;5;124mbottom\u001b[39m\u001b[38;5;124m'\u001b[39m: \u001b[38;5;124m'\u001b[39m\u001b[38;5;124m0\u001b[39m\u001b[38;5;124m'\u001b[39m, \u001b[38;5;124m'\u001b[39m\u001b[38;5;124mright\u001b[39m\u001b[38;5;124m'\u001b[39m: \u001b[38;5;124m'\u001b[39m\u001b[38;5;124m0\u001b[39m\u001b[38;5;124m'\u001b[39m, \u001b[38;5;124m'\u001b[39m\u001b[38;5;124mmargin-bottom\u001b[39m\u001b[38;5;124m'\u001b[39m: \u001b[38;5;124m'\u001b[39m\u001b[38;5;124m0vh\u001b[39m\u001b[38;5;124m'\u001b[39m, \u001b[38;5;124m'\u001b[39m\u001b[38;5;124mmargin-right\u001b[39m\u001b[38;5;124m'\u001b[39m: \u001b[38;5;124m'\u001b[39m\u001b[38;5;124m5vh\u001b[39m\u001b[38;5;124m'\u001b[39m}\n\u001b[1;32m     27\u001b[0m             )\n\u001b[1;32m     28\u001b[0m         ], width\u001b[38;5;241m=\u001b[39m\u001b[38;5;241m1\u001b[39m)\n\u001b[1;32m     29\u001b[0m     ],\n\u001b[1;32m     30\u001b[0m         style\u001b[38;5;241m=\u001b[39m{\u001b[38;5;124m\"\u001b[39m\u001b[38;5;124mheight\u001b[39m\u001b[38;5;124m\"\u001b[39m: \u001b[38;5;124m\"\u001b[39m\u001b[38;5;124m80vh\u001b[39m\u001b[38;5;124m\"\u001b[39m, \u001b[38;5;124m'\u001b[39m\u001b[38;5;124mposition\u001b[39m\u001b[38;5;124m'\u001b[39m: \u001b[38;5;124m'\u001b[39m\u001b[38;5;124mabsolute\u001b[39m\u001b[38;5;124m'\u001b[39m, \u001b[38;5;124m'\u001b[39m\u001b[38;5;124mwidth\u001b[39m\u001b[38;5;124m'\u001b[39m: \u001b[38;5;124m'\u001b[39m\u001b[38;5;124m4\u001b[39m\u001b[38;5;124m'\u001b[39m, \u001b[38;5;124m'\u001b[39m\u001b[38;5;124mmargin-top\u001b[39m\u001b[38;5;124m'\u001b[39m:\u001b[38;5;124m'\u001b[39m\u001b[38;5;124m3vh\u001b[39m\u001b[38;5;124m'\u001b[39m}\n\u001b[1;32m     31\u001b[0m     )\n\u001b[1;32m     32\u001b[0m ])\n\u001b[1;32m     34\u001b[0m \u001b[38;5;66;03m# Define the graph wrapper\u001b[39;00m\n\u001b[1;32m     35\u001b[0m graph_wrapper \u001b[38;5;241m=\u001b[39m html\u001b[38;5;241m.\u001b[39mDiv([\n\u001b[1;32m     36\u001b[0m     dbc\u001b[38;5;241m.\u001b[39mRow([\n\u001b[1;32m     37\u001b[0m         dbc\u001b[38;5;241m.\u001b[39mCol([\n\u001b[0;32m   (...)\u001b[0m\n\u001b[1;32m     51\u001b[0m     )\n\u001b[1;32m     52\u001b[0m ])\n",
      "\u001b[0;31mNameError\u001b[0m: name 'title_area' is not defined"
     ]
    }
   ],
   "source": [
    "\n",
    "# Initialize the app\n",
    "app = dash.Dash(__name__, external_stylesheets=[dbc.themes.FLATLY])\n",
    "server=app.server\n",
    "# Define the sidebar\n",
    "sidebar = html.Div([\n",
    "    dbc.Row([\n",
    "        title_area\n",
    "    ], style={\"height\": \"20vh\"}),\n",
    "    dbc.Row([\n",
    "        dbc.Col([\n",
    "            html.Div([\n",
    "                dcc.Graph(\n",
    "                    id='fig4a',\n",
    "                    figure=fig4,\n",
    "                    style={'margin-left': '1vh', 'margin-top': '3hv', 'height': '100%', 'width': '100%'}\n",
    "                )\n",
    "            ])\n",
    "        ], width=4),\n",
    "        dbc.Col([\n",
    "            html.Div([\n",
    "                html.Img(\n",
    "                    src='data:image/png;base64,{}'.format(image_data),\n",
    "                    style={'width': '10vh', 'height': '10vh', 'float': 'right'}\n",
    "                )\n",
    "            ],\n",
    "                style={'width': '15vh', 'height': '15vh', 'position': 'absolute', 'bottom': '0', 'right': '0', 'margin-bottom': '0vh', 'margin-right': '5vh'}\n",
    "            )\n",
    "        ], width=1)\n",
    "    ],\n",
    "        style={\"height\": \"80vh\", 'position': 'absolute', 'width': '4', 'margin-top':'3vh'}\n",
    "    )\n",
    "])\n",
    "\n",
    "# Define the graph wrapper\n",
    "graph_wrapper = html.Div([\n",
    "    dbc.Row([\n",
    "        dbc.Col([\n",
    "            dcc.Graph(\n",
    "                id='fig1a',\n",
    "                figure=fig1, style ={'width':'50%', 'display': 'inline-block'}\n",
    "            )\n",
    "        ], width=4),\n",
    "        dbc.Col([\n",
    "            dcc.Graph(\n",
    "                id='fig2a',\n",
    "                figure=fig2, style={'width':'50%','display': 'inline-block'}\n",
    "            )\n",
    "        ], width=4)\n",
    "    ],\n",
    "        style={\"height\": \"40vh\", \"margin-bottom\": \"1vh\", \"margin-top\": \"1vh\", \"display\": \"flex\"}\n",
    "    )\n",
    "])\n",
    "\n",
    "# Define the content\n",
    "content = html.Div([\n",
    "    dbc.Row([\n",
    "        dbc.Col([\n",
    "            text_box\n",
    "        ],\n",
    "            width=3),\n",
    "        dbc.Col([\n",
    "            text_box2\n",
    "        ],\n",
    "            width=3),\n",
    "        dbc.Col([\n",
    "            text_box3, \n",
    "        ],\n",
    "            width=3),\n",
    "    ],\n",
    "        style={\"height\": \"20vh\", \"padding\": \"1vh\", \"margin-bottom\": \"0vh\", \"margin-top\": \"2vh\", 'left':'0vh'}\n",
    "    ),\n",
    "    graph_wrapper,\n",
    "    dbc.Row([\n",
    "        dbc.Col([\n",
    "            dcc.Graph(\n",
    "                id='fig3a',\n",
    "                figure=fig3, style={\"width\":'7', 'position': 'absolute'}\n",
    "            )\n",
    "        ],\n",
    "            width=8)\n",
    "    ],\n",
    "        style={\"height\": \"40vh\", \"margin-top\": \"0vh\", \"margin-bottom\":\"4vh\"}\n",
    "    )\n",
    "],\n",
    "    style={'margin-left': '0.0vh'}\n",
    ")\n",
    "\n",
    "# Define the layout of the app\n",
    "app.layout = dbc.Container([\n",
    "    dbc.Row([\n",
    "        dbc.Col(sidebar, width=4, className='bg-light'),\n",
    "        dbc.Col(content, width=8, className='bg-light')\n",
    "    ],\n",
    "        style={\"height\": \"100vh\"}\n",
    "    )\n",
    "],\n",
    "    fluid=True\n",
    ")\n",
    "\n",
    "if __name__ == \"__main__\":\n",
    "    app.run_server(debug=True, use_reloader=False)\n",
    "\n"
   ]
  },
  {
   "cell_type": "code",
   "execution_count": 11,
   "id": "2ef3adf3-2267-4f6f-a740-0ab30114a277",
   "metadata": {},
   "outputs": [
    {
     "name": "stdout",
     "output_type": "stream",
     "text": [
      "ipywidgets==8.0.4\n",
      "plotly==5.13.1\n",
      "matplotlib==3.7.1\n",
      "dash==2.9.1\n",
      "numpy==1.23.5\n",
      "Fiona==1.8.21\n",
      "Shapely==1.8.5\n",
      "pandas==1.5.3\n",
      "seaborn==0.12.2\n",
      "geopandas==0.11.1\n",
      "voila==0.4.0\n",
      "voila-gridstack==0.3.1\n"
     ]
    }
   ],
   "source": [
    "import pkg_resources\n",
    "# list packages to be checked\n",
    "root_packages = [\n",
    "    'geoviews', 'geopandas', 'pandas', 'numpy', \n",
    "    'matplotlib', 'shapely', 'cartopy', 'holoviews', 'seaborn','IPython'\n",
    "    'mapclassify', 'fiona', 'bokeh', 'plotly', 'voila', 'voila-gridstack', 'ipywidgets', 'dash']\n",
    "\n",
    "# print versions, but check if package is imported first\n",
    "for m in pkg_resources.working_set:\n",
    "    if m.project_name.lower() in root_packages:\n",
    "        print(f\"{m.project_name}=={m.version}\")"
   ]
  }
 ],
 "metadata": {
  "extensions": {
   "jupyter_dashboards": {
    "activeView": "grid_default",
    "version": 1,
    "views": {
     "grid_default": {
      "cellMargin": 0,
      "defaultCellHeight": 42,
      "maxColumns": 12,
      "name": "grid",
      "type": "grid"
     }
    }
   }
  },
  "kernelspec": {
   "display_name": "Python [conda env:.conda-pythonProject1] *",
   "language": "python",
   "name": "conda-env-.conda-pythonProject1-py"
  },
  "language_info": {
   "codemirror_mode": {
    "name": "ipython",
    "version": 3
   },
   "file_extension": ".py",
   "mimetype": "text/x-python",
   "name": "python",
   "nbconvert_exporter": "python",
   "pygments_lexer": "ipython3",
   "version": "3.10.6"
  }
 },
 "nbformat": 4,
 "nbformat_minor": 5
}
